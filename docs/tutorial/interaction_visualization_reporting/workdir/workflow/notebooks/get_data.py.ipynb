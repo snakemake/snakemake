{
 "cells": [
  {
   "cell_type": "code",
   "execution_count": null,
   "id": "4df8ea49",
   "metadata": {},
   "outputs": [],
   "source": [
    "# start coding here\n",
    "import polars as pl\n",
    "from vega_datasets import data\n",
    "\n",
    "cars = pl.from_pandas(data.cars()).with_columns(\n",
    "    pl.col(\"Year\").dt.year()\n",
    ").select(\n",
    "    pl.col(\"*\").name.map(lambda name: name.lower().replace(\"_\", \" \"))\n",
    ")"
   ]
  },
  {
   "cell_type": "code",
   "execution_count": null,
   "id": "b02c6134-8737-440a-8b00-fc51b6c3e606",
   "metadata": {},
   "outputs": [],
   "source": [
    "cars.write_csv(snakemake.output[0], separator=\"\\t\")"
   ]
  }
 ],
 "metadata": {
  "kernelspec": {
   "display_name": "Python 3 (ipykernel)",
   "language": "python",
   "name": "python3"
  },
  "language_info": {
   "codemirror_mode": {
    "name": "ipython",
    "version": 3
   },
   "file_extension": ".py",
   "mimetype": "text/x-python",
   "name": "python",
   "nbconvert_exporter": "python",
   "pygments_lexer": "ipython3",
   "version": "3.11.10"
  }
 },
 "nbformat": 4,
 "nbformat_minor": 5
}
