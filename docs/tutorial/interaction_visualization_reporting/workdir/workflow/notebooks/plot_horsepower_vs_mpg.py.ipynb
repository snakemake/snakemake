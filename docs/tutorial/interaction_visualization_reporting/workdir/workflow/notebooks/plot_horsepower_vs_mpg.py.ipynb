{
 "cells": [
  {
   "cell_type": "code",
   "execution_count": null,
   "id": "ec9f4c14",
   "metadata": {},
   "outputs": [],
   "source": [
    "import altair as alt\n",
    "import polars as pl\n",
    "alt.data_transformers.enable(\"vegafusion\")"
   ]
  },
  {
   "cell_type": "code",
   "execution_count": null,
   "id": "2319e678-2e61-4727-b0d1-37ab3fcd419d",
   "metadata": {},
   "outputs": [],
   "source": [
    "data = pl.read_csv(snakemake.input[0], separator=\"\\t\")\n",
    "data"
   ]
  },
  {
   "cell_type": "code",
   "execution_count": null,
   "id": "901ce7af-a77e-4028-86bc-163fd0085f99",
   "metadata": {},
   "outputs": [],
   "source": [
    "chart = alt.Chart(data).mark_point(tooltip=True).encode(\n",
    "    alt.X(\"miles per gallon\"),\n",
    "    alt.Y(\"horsepower\"),\n",
    "    alt.Color(\"origin\").scale(scheme=\"accent\"),\n",
    ").interactive()\n",
    "chart"
   ]
  },
  {
   "cell_type": "code",
   "execution_count": null,
   "id": "7814800b-8b85-4523-bb6a-15815ad8256e",
   "metadata": {},
   "outputs": [],
   "source": [
    "chart.save(snakemake.output[0])"
   ]
  }
 ],
 "metadata": {
  "kernelspec": {
   "display_name": "Python 3 (ipykernel)",
   "language": "python",
   "name": "python3"
  },
  "language_info": {
   "codemirror_mode": {
    "name": "ipython",
    "version": 3
   },
   "file_extension": ".py",
   "mimetype": "text/x-python",
   "name": "python",
   "nbconvert_exporter": "python",
   "pygments_lexer": "ipython3",
   "version": "3.11.10"
  }
 },
 "nbformat": 4,
 "nbformat_minor": 5
}
